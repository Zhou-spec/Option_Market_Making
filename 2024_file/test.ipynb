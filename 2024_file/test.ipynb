{
 "cells": [
  {
   "cell_type": "code",
   "execution_count": 1,
   "metadata": {},
   "outputs": [],
   "source": [
    "from functions import *\n",
    "from simulation import *\n",
    "from policy_simulation import *\n",
    "import matplotlib.pyplot as plt\n",
    "import torch \n",
    "import numpy as np\n",
    "import torch.optim as optim"
   ]
  },
  {
   "cell_type": "code",
   "execution_count": 2,
   "metadata": {},
   "outputs": [],
   "source": [
    "# some hyperparameters that's will be fixed for the simulation \n",
    "\n",
    "################################################################################################\n",
    "# we will consider n different call options\n",
    "n = 1\n",
    "\n",
    "# bid_range is n * n * ... * n = n^10\n",
    "# for each call option, we will consider 10 different bid spreads\n",
    "\n",
    "bid_values = np.linspace(0.01, 0.1, 10)\n",
    "ask_values = np.linspace(0.01, 0.1, 10)\n",
    "\n",
    "# we will consider n different call options, each option has len(bid_values) different bid spreads\n",
    "# so bid_range will be high dimensional tensor of shape len(bid_values) * len(bid_values) * ... * len(bid_values) = len(bid_values)^n\n",
    "bid_ranges = np.array(np.meshgrid(*[bid_values for _ in range(n)])).T.reshape(-1, n)\n",
    "ask_ranges = np.array(np.meshgrid(*[ask_values for _ in range(n)])).T.reshape(-1, n)\n",
    "\n",
    "################################################################################################\n",
    "\n",
    "\n",
    "# the entire trading period is T\n",
    "# each trading time step is dt\n",
    "T = 1\n",
    "dt = 0.01\n",
    "r = 0 \n",
    "S0 = 1.00\n",
    "\n",
    "# generate the identity matrix of size n\n",
    "V = np.eye(n)\n",
    "\n",
    "# generate the strike prices for the n call options\n",
    "K = np.linspace(0.8, 1.2, n)\n",
    "time = np.linspace(10, 20, n)\n",
    "A = 10\n",
    "kappa = 10\n",
    "\n",
    "# final value penalty \n",
    "phi = 1\n",
    "# policy penalty: gamma\n",
    "gamma = 0.2\n",
    "\n",
    "\n",
    "\n",
    "# epoch is the number of trading we simulate over one stock_path\n",
    "epoch = 2"
   ]
  },
  {
   "cell_type": "code",
   "execution_count": 3,
   "metadata": {},
   "outputs": [],
   "source": [
    "# I found that if there are so many parameters\n",
    "# it is better to use a class to store all the parameters\n",
    "class TradingParameters:\n",
    "    def __init__(self, sigma, S0, T, dt, r, V, K, time, m, A, kappa, bid_ranges, ask_ranges, phi, gamma, epoch):\n",
    "        self.sigma = sigma\n",
    "        self.S0 = S0\n",
    "        self.T = T\n",
    "        self.dt = dt\n",
    "        self.r = r\n",
    "        self.V = V\n",
    "        self.K = K\n",
    "        self.time = time\n",
    "        self.A = A\n",
    "        self.kappa = kappa\n",
    "        self.bid_ranges = bid_ranges\n",
    "        self.ask_ranges = ask_ranges\n",
    "        self.phi = phi\n",
    "        self.gamma = gamma\n",
    "        self.epoch = epoch"
   ]
  },
  {
   "cell_type": "code",
   "execution_count": 4,
   "metadata": {},
   "outputs": [
    {
     "name": "stdout",
     "output_type": "stream",
     "text": [
      "cuda:0\n",
      "True\n"
     ]
    }
   ],
   "source": [
    "# initialize the initial policy and value network\n",
    "paras = TradingParameters(0.2, S0, T, dt, r, V, K, time, 100, A, kappa, bid_ranges, ask_ranges, phi, gamma, epoch)\n",
    "random_first_value = Net(n)\n",
    "random_policy = TradingPolicy(random_first_value, paras.gamma, paras.A, paras.kappa, paras.bid_ranges, paras.ask_ranges)\n",
    "\n",
    "# define value network to be trained\n",
    "value_net_to_train = Net(n)\n",
    "value_net_to_train.load_state_dict(random_first_value.state_dict())\n",
    "\n",
    "# move the value_network to the GPU\n",
    "device = torch.device(\"cuda:0\" if torch.cuda.is_available() else \"cpu\")\n",
    "value_net_to_train.to(device)\n",
    "\n",
    "print(device)\n",
    "# check if the value network is on the GPU\n",
    "print(next(value_net_to_train.parameters()).is_cuda)"
   ]
  },
  {
   "cell_type": "code",
   "execution_count": 6,
   "metadata": {},
   "outputs": [],
   "source": [
    "random_value = Net(n)\n",
    "random_policy = TradingPolicy(random_value, paras.gamma, paras.A, paras.kappa, paras.bid_ranges, paras.ask_ranges)"
   ]
  },
  {
   "cell_type": "code",
   "execution_count": 7,
   "metadata": {},
   "outputs": [
    {
     "name": "stdout",
     "output_type": "stream",
     "text": [
      "iteration:  0\n",
      "loss:  966062144.0\n",
      "<policy_simulation.TradingPolicy object at 0x000002276F53FA30>\n",
      "iteration:  1\n",
      "loss:  9227070464.0\n",
      "<policy_simulation.TradingPolicy object at 0x0000022708B56C40>\n",
      "iteration:  2\n",
      "loss:  48580444.0\n",
      "<policy_simulation.TradingPolicy object at 0x0000022708B56B80>\n"
     ]
    },
    {
     "data": {
      "text/plain": [
       "<policy_simulation.TradingPolicy at 0x22708b56b80>"
      ]
     },
     "execution_count": 7,
     "metadata": {},
     "output_type": "execute_result"
    }
   ],
   "source": [
    "policy_iteration(initial_policy=random_policy, paras=paras, device=device, num_iter=3, num_epoch=1, lr=0.01)"
   ]
  }
 ],
 "metadata": {
  "kernelspec": {
   "display_name": "qids-2023-comp",
   "language": "python",
   "name": "python3"
  },
  "language_info": {
   "codemirror_mode": {
    "name": "ipython",
    "version": 3
   },
   "file_extension": ".py",
   "mimetype": "text/x-python",
   "name": "python",
   "nbconvert_exporter": "python",
   "pygments_lexer": "ipython3",
   "version": "3.9.16"
  }
 },
 "nbformat": 4,
 "nbformat_minor": 2
}
