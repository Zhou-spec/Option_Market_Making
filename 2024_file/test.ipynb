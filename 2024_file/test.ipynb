{
 "cells": [
  {
   "cell_type": "code",
   "execution_count": 18,
   "metadata": {},
   "outputs": [],
   "source": [
    "from functions import *\n",
    "from simulation import *\n",
    "from policy_simulation import *\n",
    "import matplotlib.pyplot as plt\n",
    "import torch \n",
    "import numpy as np"
   ]
  },
  {
   "cell_type": "code",
   "execution_count": 19,
   "metadata": {},
   "outputs": [],
   "source": [
    "# define a neural network for the policy \n",
    "class Net(torch.nn.Module):\n",
    "    def __init__(self, n):\n",
    "        self.n = n\n",
    "        super(Net, self).__init__()\n",
    "        self.fc1 = torch.nn.Linear(2 + 2 * n, 128)\n",
    "        self.fc2 = torch.nn.Linear(128, 1)\n",
    "    def forward(self, x):\n",
    "        x = torch.relu(self.fc1(x))\n",
    "        x = self.fc2(x)\n",
    "        # add relu to make sure the output is positive\n",
    "        x = torch.relu(x)\n",
    "        return x\n",
    "    \n",
    "\n",
    "value_net = Net(2)"
   ]
  },
  {
   "cell_type": "code",
   "execution_count": 20,
   "metadata": {},
   "outputs": [],
   "source": [
    "# let bid_range be n*2 array\n",
    "bid_range = np.array([[0, 0], [1, 1], [2, 2], [3, 3], [4, 4], [5, 5], [6, 6], [7, 7], [8, 8], [9, 9]])\n",
    "ask_range = np.array([[0, 0], [1, 1], [2, 2], [3, 3], [4, 4], [5, 5], [6, 6], [7, 7], [8, 8], [9, 9]])\n",
    "\n",
    "t = np.array([0])\n",
    "Q = np.array([0, 0])\n",
    "P = np.array([12, 23])\n",
    "S = np.array([1])   \n",
    "penalty = 10\n",
    "A = 30\n",
    "kappa = 3\n",
    "#print(policy_distribution(value_net, t, Q, P, S, penalty, A, kappa, bid_range, ask_range))\n",
    "\n",
    "\n",
    "# define trading policy object\n",
    "policy = TradingPolicy(value_net, penalty, A, kappa, bid_range, ask_range)"
   ]
  },
  {
   "cell_type": "code",
   "execution_count": 21,
   "metadata": {},
   "outputs": [
    {
     "data": {
      "text/plain": [
       "0.031966402593556535"
      ]
     },
     "execution_count": 21,
     "metadata": {},
     "output_type": "execute_result"
    }
   ],
   "source": [
    "policy.policy_numerator(bid_range[2], ask_range[3], t, Q, P, S)"
   ]
  },
  {
   "cell_type": "code",
   "execution_count": 22,
   "metadata": {},
   "outputs": [
    {
     "name": "stdout",
     "output_type": "stream",
     "text": [
      "0.9999999999999999\n",
      "[[0.00927996 0.01251064 0.00956014 0.0093006  0.00928133 0.00928004\n",
      "  0.00927996 0.00927996 0.00927996 0.00927996]\n",
      " [0.01251064 0.01686604 0.01288836 0.01253846 0.01251248 0.01251075\n",
      "  0.01251065 0.01251064 0.01251064 0.01251064]\n",
      " [0.00956014 0.01288836 0.00984878 0.0095814  0.00956155 0.00956023\n",
      "  0.00956014 0.00956014 0.00956014 0.00956014]\n",
      " [0.0093006  0.01253846 0.0095814  0.00932128 0.00930197 0.00930068\n",
      "  0.0093006  0.0093006  0.0093006  0.0093006 ]\n",
      " [0.00928133 0.01251248 0.00956155 0.00930197 0.0092827  0.00928141\n",
      "  0.00928133 0.00928133 0.00928133 0.00928133]\n",
      " [0.00928004 0.01251075 0.00956023 0.00930068 0.00928141 0.00928013\n",
      "  0.00928005 0.00928004 0.00928004 0.00928004]\n",
      " [0.00927996 0.01251065 0.00956014 0.0093006  0.00928133 0.00928005\n",
      "  0.00927997 0.00927996 0.00927996 0.00927996]\n",
      " [0.00927996 0.01251064 0.00956014 0.0093006  0.00928133 0.00928004\n",
      "  0.00927996 0.00927996 0.00927996 0.00927996]\n",
      " [0.00927996 0.01251064 0.00956014 0.0093006  0.00928133 0.00928004\n",
      "  0.00927996 0.00927996 0.00927996 0.00927996]\n",
      " [0.00927996 0.01251064 0.00956014 0.0093006  0.00928133 0.00928004\n",
      "  0.00927996 0.00927996 0.00927996 0.00927996]]\n"
     ]
    }
   ],
   "source": [
    "x = policy.policy_distribution(t, Q, P, S)\n",
    "print(np.sum(x))\n",
    "print(x)"
   ]
  },
  {
   "cell_type": "code",
   "execution_count": 23,
   "metadata": {},
   "outputs": [
    {
     "data": {
      "text/plain": [
       "(array([9, 9]), array([4, 4]))"
      ]
     },
     "execution_count": 23,
     "metadata": {},
     "output_type": "execute_result"
    }
   ],
   "source": [
    "policy.policy_act(t, Q, P, S)"
   ]
  },
  {
   "cell_type": "code",
   "execution_count": 27,
   "metadata": {},
   "outputs": [
    {
     "name": "stdout",
     "output_type": "stream",
     "text": [
      "(100, 2)\n",
      "(100, 2)\n",
      "(100, 2)\n",
      "[[ 0.  0.]\n",
      " [ 0.  0.]\n",
      " [ 0.  0.]\n",
      " [ 0.  0.]\n",
      " [ 0.  0.]\n",
      " [ 0.  0.]\n",
      " [ 0.  0.]\n",
      " [ 0.  0.]\n",
      " [ 0.  0.]\n",
      " [ 0.  0.]\n",
      " [ 0.  0.]\n",
      " [ 0.  0.]\n",
      " [ 0.  0.]\n",
      " [ 0.  0.]\n",
      " [ 0.  0.]\n",
      " [ 0.  0.]\n",
      " [ 0.  0.]\n",
      " [ 0.  0.]\n",
      " [ 0.  0.]\n",
      " [ 0.  0.]\n",
      " [ 0.  0.]\n",
      " [ 0.  0.]\n",
      " [ 0.  0.]\n",
      " [ 0.  0.]\n",
      " [ 0.  0.]\n",
      " [ 0.  0.]\n",
      " [ 0.  0.]\n",
      " [ 0.  0.]\n",
      " [ 0.  0.]\n",
      " [ 0.  0.]\n",
      " [ 0.  0.]\n",
      " [ 0. -1.]\n",
      " [ 0. -1.]\n",
      " [ 0. -1.]\n",
      " [ 0. -1.]\n",
      " [ 0. -1.]\n",
      " [ 0. -1.]\n",
      " [ 0. -1.]\n",
      " [ 0. -1.]\n",
      " [ 0. -1.]\n",
      " [ 0. -1.]\n",
      " [ 0. -1.]\n",
      " [ 0. -1.]\n",
      " [ 0. -1.]\n",
      " [ 0. -1.]\n",
      " [ 0. -1.]\n",
      " [ 0. -1.]\n",
      " [ 0. -2.]\n",
      " [ 0. -2.]\n",
      " [ 0. -2.]\n",
      " [ 0. -2.]\n",
      " [-1. -2.]\n",
      " [-1. -2.]\n",
      " [-1. -2.]\n",
      " [-1. -2.]\n",
      " [-1. -2.]\n",
      " [-1. -2.]\n",
      " [-1. -2.]\n",
      " [-1. -2.]\n",
      " [-1. -2.]\n",
      " [-1. -2.]\n",
      " [-1. -2.]\n",
      " [-1. -2.]\n",
      " [-1. -2.]\n",
      " [-1. -2.]\n",
      " [-1. -2.]\n",
      " [-1. -2.]\n",
      " [-1. -2.]\n",
      " [-2. -3.]\n",
      " [-2. -3.]\n",
      " [-2. -3.]\n",
      " [-2. -3.]\n",
      " [-2. -3.]\n",
      " [-2. -3.]\n",
      " [-2. -3.]\n",
      " [-2. -3.]\n",
      " [-2. -3.]\n",
      " [-2. -3.]\n",
      " [-2. -3.]\n",
      " [-2. -3.]\n",
      " [-2. -3.]\n",
      " [-2. -3.]\n",
      " [-2. -3.]\n",
      " [-2. -3.]\n",
      " [-2. -3.]\n",
      " [-2. -3.]\n",
      " [-2. -3.]\n",
      " [-2. -3.]\n",
      " [-2. -3.]\n",
      " [-2. -3.]\n",
      " [-2. -3.]\n",
      " [-2. -3.]\n",
      " [-2. -3.]\n",
      " [-2. -3.]\n",
      " [-2. -3.]\n",
      " [-2. -3.]\n",
      " [-2. -3.]\n",
      " [-2. -3.]\n",
      " [-2. -3.]\n",
      " [-2. -3.]]\n"
     ]
    }
   ],
   "source": [
    "# generate the training data \n",
    "V = np.array([[1, 0.5], [0.5, 1]])\n",
    "stock_path = stock_price_path(100, 0.05, 1, 0.01)\n",
    "K = np.array([30, 50])\n",
    "daily_sigma = 0.01\n",
    "option_price, delta, gamma = option_simulation(V, stock_path, 1, 0.01, K, 0.01, daily_sigma) \n",
    "\n",
    "inv, buy, sell = entire_trading(policy, option_price, stock_path, 0.01, A, kappa)\n",
    "print(inv.shape)\n",
    "print(buy.shape)\n",
    "print(sell.shape)\n",
    "\n",
    "print(inv)"
   ]
  }
 ],
 "metadata": {
  "kernelspec": {
   "display_name": "qids-2023-comp",
   "language": "python",
   "name": "python3"
  },
  "language_info": {
   "codemirror_mode": {
    "name": "ipython",
    "version": 3
   },
   "file_extension": ".py",
   "mimetype": "text/x-python",
   "name": "python",
   "nbconvert_exporter": "python",
   "pygments_lexer": "ipython3",
   "version": "3.9.16"
  }
 },
 "nbformat": 4,
 "nbformat_minor": 2
}
