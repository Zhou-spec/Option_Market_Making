{
 "cells": [
  {
   "cell_type": "code",
   "execution_count": 1,
   "metadata": {},
   "outputs": [],
   "source": [
    "from functions import *\n",
    "from simulation import *\n",
    "import matplotlib.pyplot as plt\n",
    "opt1 = EuropeanCallOption(100, 100, 1, 0.05, 0.2)"
   ]
  },
  {
   "cell_type": "code",
   "execution_count": 2,
   "metadata": {},
   "outputs": [
    {
     "data": {
      "text/plain": [
       "array([42])"
      ]
     },
     "execution_count": 2,
     "metadata": {},
     "output_type": "execute_result"
    }
   ],
   "source": [
    "import torch \n",
    "import numpy as np\n",
    "epsilons = torch.tensor([0.1])\n",
    "eps = np.array([0.1])\n",
    "mkt_order(eps, 10, 10, 10)"
   ]
  },
  {
   "cell_type": "code",
   "execution_count": 13,
   "metadata": {},
   "outputs": [
    {
     "name": "stdout",
     "output_type": "stream",
     "text": [
      "(100, 2)\n"
     ]
    }
   ],
   "source": [
    "def option_simulation(V, S, T, dt, K, r, sigma_daily):\n",
    "    # options: a list of option objects\n",
    "    # V: Cholesky factor of the covariance matrix\n",
    "    # S: stock price path\n",
    "    # T: Time of total trading days\n",
    "    # dt: Time step in days.\n",
    "\n",
    "    # K is np array of strike prices\n",
    "    # r is the risk-free rate\n",
    "    # sigma_daily is the daily volatility of the underlying asset\n",
    "\n",
    "    # initialize the option prices, delta, and gamma\n",
    "    N = int(T / dt)\n",
    "    n = len(K)\n",
    "\n",
    "    option_prices = np.zeros((N, n))\n",
    "    delta = np.zeros((N, n))\n",
    "    gamma = np.zeros((N, n))\n",
    "\n",
    "    for i in range(N):\n",
    "        for j in range(n):\n",
    "            option = EuropeanCallOption(S[i], K[j], T - i * dt, r, sigma_daily)\n",
    "            option_prices[i, j] = option.price()\n",
    "            delta[i, j] = option.delta()\n",
    "            gamma[i, j] = option.gamma()\n",
    "\n",
    "    # add shock \n",
    "    shock = shock_path(V, T, dt)\n",
    "    option_prices += shock\n",
    "\n",
    "    return option_prices, delta, gamma\n",
    "\n",
    "stock_path = stock_price_path(100, 0.05, 1, 0.01)\n",
    "# generate the Cholesky factor of the covariance matrix\n",
    "V = np.array([[1, 0.5], [0.5, 1]])   \n",
    "price, delta, gamma = option_simulation(V, stock_path, 1, 0.01, np.array([100, 110]), 0.05, 0.2)\n",
    "print(price.shape)"
   ]
  },
  {
   "cell_type": "code",
   "execution_count": 37,
   "metadata": {},
   "outputs": [
    {
     "name": "stdout",
     "output_type": "stream",
     "text": [
      "(100, 2)\n",
      "(100, 2)\n",
      "(100, 2)\n"
     ]
    }
   ],
   "source": [
    "# define a neural network for the policy \n",
    "class Net(torch.nn.Module):\n",
    "    def __init__(self, n):\n",
    "        self.n = 2\n",
    "        super(Net, self).__init__()\n",
    "        self.fc1 = torch.nn.Linear(2 + 2 * n, 10)\n",
    "        self.fc2 = torch.nn.Linear(10, 2 * n)\n",
    "    def forward(self, x):\n",
    "        x = torch.relu(self.fc1(x))\n",
    "        x = self.fc2(x)\n",
    "        # add relu to make sure the output is positive\n",
    "        x = torch.relu(x)\n",
    "        return x\n",
    "    \n",
    "\n",
    "def policy_test(t, Q, P, S):\n",
    "    # Q is dim n numpy array\n",
    "    # P is dim n numpy array\n",
    "    # S is dim 1 numpy array\n",
    "    \n",
    "    net = Net(n)\n",
    "    # use this network to output action \n",
    "    x = torch.tensor(np.concatenate([t, Q, P, S])).float()\n",
    "    action = net(x)\n",
    "    return action\n",
    "\n",
    "\n",
    "def second_period_trading(policy, t, Q, P, S, dt, A, kappa):\n",
    "    # policy: a function that takes in t, Q, P, S and returns the action\n",
    "    # t: current time\n",
    "    # Q: current inventory (dim: n)\n",
    "    # P: current price (dim: n)\n",
    "    # S: current shock (dim: 1)\n",
    "\n",
    "    # get the action\n",
    "    action = policy(t, Q, P, S) # dim: 2n\n",
    "\n",
    "    # the action is a vector of bid and ask for each options \n",
    "    # for each option, we need to calculate the number of market orders \n",
    "    # let the first n be the bid and the second n be the ask\n",
    "    n = int(len(action) / 2)\n",
    "    bid_spread = action[:n]\n",
    "    ask_spread = action[n:]\n",
    "\n",
    "    # calculate the number of market orders\n",
    "    # call the mkt_order function for each option\n",
    "    # the result is a vector of number of market orders for each option\n",
    "    # dim: 2n\n",
    "    buy_orders = [mkt_order(epsilon.detach().numpy(), dt, A, kappa) for epsilon in bid_spread]\n",
    "    sell_orders = [mkt_order(epsilon.detach().numpy(), dt, A, kappa) for epsilon in ask_spread]\n",
    "\n",
    "    buy_orders = np.array(buy_orders)\n",
    "    sell_orders = np.array(sell_orders)\n",
    "\n",
    "    return buy_orders, sell_orders\n",
    "\n",
    "def entire_trading(policy, P, S, dt, A, kappa):\n",
    "    # P is sequence of option prices (dim: N x n)\n",
    "    # S is the sequence of stock (dim: N)\n",
    "    # n means the number of options\n",
    "    # N means the total trading days\n",
    "\n",
    "    # initialize the inventory\n",
    "    Q = np.zeros(P.shape[1])\n",
    "\n",
    "    inventory_path = np.zeros((P.shape[0], P.shape[1]))\n",
    "    buy_order_path = np.zeros((P.shape[0], P.shape[1]))\n",
    "    sell_order_path = np.zeros((P.shape[0], P.shape[1]))\n",
    "\n",
    "    for i in range(P.shape[0]):\n",
    "        curr_time = np.array([i * dt])  \n",
    "        curr_P = np.array(P[i])\n",
    "        curr_S = np.array([S[i]])\n",
    "\n",
    "        buy_orders, sell_orders = second_period_trading(policy, curr_time, Q, curr_P, curr_S, dt, A, kappa)\n",
    "        Q += buy_orders - sell_orders\n",
    "        inventory_path[i] = Q\n",
    "        buy_order_path[i] = buy_orders\n",
    "        sell_order_path[i] = sell_orders\n",
    "\n",
    "    return inventory_path, buy_order_path, sell_order_path\n",
    "\n",
    "stock_path = stock_price_path(100, 0.05, 1, 0.01)\n",
    "# generate the Cholesky factor of the covariance matrix\n",
    "V = np.array([[1, 0.5], [0.5, 1]])\n",
    "price, delta, gamma = option_simulation(V, stock_path, 1, 0.01, np.array([100, 110]), 0.05, 0.2)\n",
    "\n",
    "# the following function is to compute the inventory path under policy\n",
    "inventory_path, buy_order_path, sell_order_path = entire_trading(policy_test, price, stock_path, 0.01, 100, 3)\n",
    "\n",
    "print(inventory_path.shape)\n",
    "print(buy_order_path.shape)\n",
    "print(sell_order_path.shape)"
   ]
  },
  {
   "cell_type": "code",
   "execution_count": null,
   "metadata": {},
   "outputs": [
    {
     "data": {
      "text/plain": [
       "(100, 2)"
      ]
     },
     "execution_count": 5,
     "metadata": {},
     "output_type": "execute_result"
    }
   ],
   "source": [
    "# generate 2 by 2 matrix\n",
    "V = np.array([[2, 0.1], [0.1, 1]])\n",
    "\n",
    "shock = shock_path(V, 1, 0.01)\n",
    "shock.shape"
   ]
  }
 ],
 "metadata": {
  "kernelspec": {
   "display_name": "qids-2023-comp",
   "language": "python",
   "name": "python3"
  },
  "language_info": {
   "codemirror_mode": {
    "name": "ipython",
    "version": 3
   },
   "file_extension": ".py",
   "mimetype": "text/x-python",
   "name": "python",
   "nbconvert_exporter": "python",
   "pygments_lexer": "ipython3",
   "version": "3.9.16"
  }
 },
 "nbformat": 4,
 "nbformat_minor": 2
}
