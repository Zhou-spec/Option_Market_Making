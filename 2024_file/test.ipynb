{
 "cells": [
  {
   "cell_type": "code",
   "execution_count": 1,
   "metadata": {},
   "outputs": [],
   "source": [
    "from functions import *\n",
    "from simulation import *\n",
    "from policy_simulation import *\n",
    "import matplotlib.pyplot as plt\n",
    "import numpy as np\n",
    "import torch\n",
    "import torch.nn as nn\n",
    "import torch.nn.functional as F\n",
    "import torch.optim as optim\n",
    "import random"
   ]
  },
  {
   "cell_type": "code",
   "execution_count": 2,
   "metadata": {},
   "outputs": [],
   "source": [
    "# some hyperparameters that's will be fixed for the simulation \n",
    "\n",
    "################################################################################################\n",
    "# we will consider n different call options\n",
    "n = 2\n",
    "\n",
    "# bid_range is n * n * ... * n = n^10\n",
    "# for each call option, we will consider 10 different bid spreads\n",
    "\n",
    "bid_values = np.linspace(0.1, 0.4, 4)\n",
    "ask_values = np.linspace(0.1, 0.4, 4)\n",
    "\n",
    "# we will consider n different call options, each option has len(bid_values) different bid spreads\n",
    "# so bid_range will be high dimensional tensor of shape len(bid_values) * len(bid_values) * ... * len(bid_values) = len(bid_values)^n\n",
    "bid_ranges = np.array(np.meshgrid(*[bid_values for _ in range(n)])).T.reshape(-1, n)\n",
    "ask_ranges = np.array(np.meshgrid(*[ask_values for _ in range(n)])).T.reshape(-1, n)\n",
    "\n",
    "################################################################################################\n",
    "\n",
    "\n",
    "# the entire trading period is T\n",
    "# each trading time step is dt\n",
    "T = 1\n",
    "dt = 0.1\n",
    "r = 0 \n",
    "S0 = 1.00\n",
    "\n",
    "# generate the identity matrix of size n\n",
    "V = np.eye(n)\n",
    "\n",
    "# generate the strike prices for the n call options\n",
    "K = np.linspace(0.8, 1.2, n)\n",
    "time = np.linspace(10, 20, n)\n",
    "A = 10\n",
    "kappa = 1\n",
    "\n",
    "# final value penalty \n",
    "phi = 1\n",
    "# policy penalty: gamma\n",
    "gamma = 0.1\n",
    "\n",
    "# epoch is the number of trading we simulate over one stock_path\n",
    "epoch = 1"
   ]
  },
  {
   "cell_type": "code",
   "execution_count": 3,
   "metadata": {},
   "outputs": [],
   "source": [
    "# generate train data\n",
    "# train data consist of 200 stock paths\n",
    "\n",
    "class TrainData:\n",
    "    def __init__(self, stock_path_repo, option_price_path_repo, delta_path_repo, gamma_path_repo):\n",
    "        self.stock_path_repo = stock_path_repo\n",
    "        self.option_price_path_repo = option_price_path_repo\n",
    "        self.delta_path_repo = delta_path_repo\n",
    "        self.gamma_path_repo = gamma_path_repo\n",
    "\n",
    "def create_train_data(num_data):\n",
    "    stock_path_repo = []\n",
    "    option_price_path_repo = []\n",
    "    delta_path_repo = []\n",
    "    gamma_path_repo = []    \n",
    "    for i in range(num_data):\n",
    "        stock_path = stock_price_path(S0, 0.2, T, dt)\n",
    "        option_price_path, delta_path, gamma_path = option_simulation(V, stock_path, T, dt, K, time, r, 0.2)\n",
    "        stock_path_repo.append(stock_path)\n",
    "        option_price_path_repo.append(option_price_path)\n",
    "        delta_path_repo.append(delta_path)\n",
    "        gamma_path_repo.append(gamma_path)\n",
    "    return stock_path_repo, option_price_path_repo, delta_path_repo, gamma_path_repo\n",
    "\n",
    "stock_price_repo, option_price_repo, delta_repo, gamma_repo = create_train_data(30)\n",
    "train_data = TrainData(stock_price_repo, option_price_repo, delta_repo, gamma_repo)\n"
   ]
  },
  {
   "cell_type": "code",
   "execution_count": 4,
   "metadata": {},
   "outputs": [
    {
     "data": {
      "text/plain": [
       "array([1.        , 0.98541598, 1.07008952, 1.04116735, 1.10249703,\n",
       "       1.0699803 , 1.24901031, 1.06993824, 1.01520491, 0.98180783])"
      ]
     },
     "execution_count": 4,
     "metadata": {},
     "output_type": "execute_result"
    }
   ],
   "source": [
    "train_data.stock_path_repo\n",
    "# random select one element from a list\n",
    "random.choice(train_data.stock_path_repo)"
   ]
  },
  {
   "cell_type": "code",
   "execution_count": 5,
   "metadata": {},
   "outputs": [],
   "source": [
    "# save the train data\n",
    "# train_data is an object\n",
    "# stock_path_repo is a list of stock price paths\n",
    "# option_price_path_repo is a list of option price paths\n",
    "# delta_path_repo is a list of delta paths\n",
    "# gamma_path_repo is a list of gamma paths\n",
    "\n",
    "# save the train data\n",
    "stock_price_data = train_data.stock_path_repo\n",
    "option_price_data = train_data.option_price_path_repo\n",
    "delta_data = train_data.delta_path_repo\n",
    "gamma_data = train_data.gamma_path_repo\n",
    "\n",
    "np.save('stock_price_data.npy', stock_price_data)\n",
    "np.save('option_price_data.npy', option_price_data)\n",
    "np.save('delta_data.npy', delta_data)\n",
    "np.save('gamma_data.npy', gamma_data)\n"
   ]
  },
  {
   "cell_type": "code",
   "execution_count": 6,
   "metadata": {},
   "outputs": [],
   "source": [
    "# I found that if there are so many parameters\n",
    "# it is better to use a class to store all the parameters\n",
    "class TradingParameters:\n",
    "    def __init__(self, sigma, S0, T, dt, r, V, K, time, m, A, kappa, bid_ranges, ask_ranges, phi, gamma, epoch):\n",
    "        self.sigma = sigma\n",
    "        self.S0 = S0\n",
    "        self.T = T\n",
    "        self.dt = dt\n",
    "        self.r = r\n",
    "        self.V = V\n",
    "        self.K = K\n",
    "        self.time = time\n",
    "        self.A = A\n",
    "        self.kappa = kappa\n",
    "        self.bid_ranges = bid_ranges\n",
    "        self.ask_ranges = ask_ranges\n",
    "        self.phi = phi\n",
    "        self.gamma = gamma\n",
    "        self.epoch = epoch"
   ]
  },
  {
   "cell_type": "code",
   "execution_count": 7,
   "metadata": {},
   "outputs": [
    {
     "data": {
      "text/plain": [
       "Net(\n",
       "  (fc1): Linear(in_features=6, out_features=128, bias=True)\n",
       "  (fc2): Linear(in_features=128, out_features=1024, bias=True)\n",
       "  (fc3): Linear(in_features=1024, out_features=256, bias=True)\n",
       "  (fc4): Linear(in_features=256, out_features=1, bias=True)\n",
       ")"
      ]
     },
     "execution_count": 7,
     "metadata": {},
     "output_type": "execute_result"
    }
   ],
   "source": [
    "# initialize the initial policy and value network\n",
    "paras = TradingParameters(0.2, S0, T, dt, r, V, K, time, 100, A, kappa, bid_ranges, ask_ranges, phi, gamma, epoch)\n",
    "random_first_value = Net(n)\n",
    "random_policy = TradingPolicy(random_first_value, paras.gamma, paras.A, paras.kappa, paras.bid_ranges, paras.ask_ranges)\n",
    "\n",
    "# define value network to be trained\n",
    "value_net_to_train = Net(n)\n",
    "value_net_to_train.load_state_dict(random_first_value.state_dict())\n",
    "\n",
    "# move the value_network to the GPU\n",
    "device = torch.device(\"cuda:0\" if torch.cuda.is_available() else \"cpu\")\n",
    "value_net_to_train.to(device)"
   ]
  },
  {
   "cell_type": "code",
   "execution_count": 8,
   "metadata": {},
   "outputs": [],
   "source": [
    "# save random_first_value\n",
    "torch.save(random_first_value.state_dict(), 'random_value_oarams')"
   ]
  },
  {
   "cell_type": "code",
   "execution_count": 9,
   "metadata": {},
   "outputs": [
    {
     "name": "stdout",
     "output_type": "stream",
     "text": [
      "loss:  697250.3125\n",
      "loss:  73.1404037475586\n",
      "loss:  1020670.1875\n",
      "loss:  4634.595703125\n",
      "loss:  14553564.0\n",
      "loss:  201744.625\n",
      "loss:  74825.8984375\n",
      "loss:  3148335.5\n",
      "loss:  378798.5625\n",
      "loss:  42941520.0\n",
      "loss:  102567704.0\n",
      "loss:  905923.5\n",
      "loss:  7416928.0\n",
      "loss:  3873183.25\n",
      "loss:  11154709.0\n",
      "loss:  13776078.0\n",
      "loss:  5601584.0\n",
      "loss:  8862796.0\n",
      "loss:  2500817.25\n",
      "loss:  2194878.5\n",
      "loss:  5348053.0\n",
      "loss:  1872699.5\n",
      "loss:  3752321.0\n",
      "loss:  863687.0\n",
      "loss:  93277.71875\n",
      "loss:  243182.5625\n",
      "loss:  31803.82421875\n",
      "loss:  2630852.0\n",
      "loss:  386733.09375\n",
      "loss:  31208608.0\n",
      "loss:  1292358.5\n",
      "loss:  15859.666015625\n",
      "loss:  3637.494140625\n",
      "loss:  15489929.0\n",
      "loss:  601922.0\n",
      "loss:  2341884.5\n",
      "loss:  30794.5859375\n",
      "loss:  9277.349609375\n",
      "loss:  21824.71484375\n",
      "loss:  83157.8359375\n",
      "loss:  9100.0869140625\n",
      "loss:  62975.046875\n",
      "loss:  18368272.0\n",
      "loss:  455106.0625\n",
      "loss:  11128.9873046875\n",
      "loss:  10696331.0\n",
      "loss:  128546.9375\n",
      "loss:  26252.44921875\n",
      "loss:  707140.1875\n",
      "loss:  38835.90234375\n",
      "loss:  838992.375\n",
      "loss:  97379.140625\n",
      "loss:  193265.0625\n",
      "loss:  63427.296875\n",
      "loss:  92414.125\n",
      "loss:  947951.1875\n",
      "loss:  376701.8125\n",
      "loss:  53248.56640625\n",
      "loss:  23335.580078125\n",
      "loss:  8451908.0\n",
      "loss:  261112.125\n",
      "loss:  103634.9765625\n",
      "loss:  123267.03125\n",
      "loss:  304215.375\n",
      "loss:  64255.78125\n",
      "loss:  243523.984375\n",
      "loss:  54375.02734375\n",
      "loss:  26735.234375\n",
      "loss:  420219.09375\n",
      "loss:  275519.0625\n",
      "loss:  4830613.0\n",
      "loss:  47172.45703125\n",
      "loss:  4750525.5\n",
      "loss:  155242.9375\n",
      "loss:  39223.09375\n",
      "loss:  226708.171875\n",
      "loss:  70602376.0\n",
      "loss:  96267.3671875\n",
      "loss:  8047932.5\n",
      "loss:  275544.15625\n",
      "loss:  1127081.75\n",
      "loss:  428422.3125\n",
      "loss:  210637.21875\n",
      "loss:  265558.21875\n",
      "loss:  830847.0\n",
      "loss:  401878.6875\n",
      "loss:  202072.21875\n",
      "loss:  9849326.0\n",
      "loss:  174439.4375\n",
      "loss:  2108092.5\n",
      "loss:  597313.1875\n",
      "loss:  466348.59375\n",
      "loss:  3860956.0\n",
      "loss:  523732.5\n",
      "loss:  862098.0625\n",
      "loss:  284665.5\n",
      "loss:  9210644.0\n",
      "loss:  38054.703125\n",
      "loss:  357730.375\n",
      "loss:  166258.34375\n"
     ]
    }
   ],
   "source": [
    "# let's do the first policy iteration \n",
    "# current policy is random policy \n",
    "# current value_network to be trained is value_net_to_train\n",
    "\n",
    "# training process\n",
    "optimizer = optim.Adam(value_net_to_train.parameters(), lr = 0.01)\n",
    "loss_path = value_estimation(value_net_to_train, random_policy, paras, optimizer, train_data, num_epoch = 100, lr = 0.01)"
   ]
  },
  {
   "cell_type": "code",
   "execution_count": 10,
   "metadata": {},
   "outputs": [],
   "source": [
    "# save the value function's parameters\n",
    "torch.save(value_net_to_train.state_dict(), 'first_value_net_params')\n",
    "# save the loss path\n",
    "loss_path = np.array(loss_path)\n",
    "np.save('first_loss_path.npy', loss_path)"
   ]
  },
  {
   "cell_type": "code",
   "execution_count": 11,
   "metadata": {},
   "outputs": [
    {
     "data": {
      "image/png": "[encoded data removed]",
      "text/plain": [
       "<Figure size 640x480 with 1 Axes>"
      ]
     },
     "metadata": {},
     "output_type": "display_data"
    }
   ],
   "source": [
    "# plot the loss path\n",
    "plt.plot(loss_path)\n",
    "#plt.ylim(0, 30000000)\n",
    "plt.show()\n"
   ]
  },
  {
   "cell_type": "code",
   "execution_count": 12,
   "metadata": {},
   "outputs": [
    {
     "data": {
      "text/plain": [
       "<All keys matched successfully>"
      ]
     },
     "execution_count": 12,
     "metadata": {},
     "output_type": "execute_result"
    }
   ],
   "source": [
    "new_value_net = Net(n)\n",
    "new_value_net.load_state_dict(torch.load(\"first_value_net_params\"))"
   ]
  },
  {
   "cell_type": "code",
   "execution_count": 13,
   "metadata": {},
   "outputs": [
    {
     "name": "stderr",
     "output_type": "stream",
     "text": [
      "c:\\Users\\specf\\OneDrive\\Documents\\GitHub\\Option_Market_Making\\2024_file\\policy_simulation.py:132: RuntimeWarning: divide by zero encountered in log\n",
      "  entropy = -np.sum(distribution * np.log(distribution), where=(distribution!=0))\n",
      "c:\\Users\\specf\\OneDrive\\Documents\\GitHub\\Option_Market_Making\\2024_file\\policy_simulation.py:132: RuntimeWarning: invalid value encountered in multiply\n",
      "  entropy = -np.sum(distribution * np.log(distribution), where=(distribution!=0))\n"
     ]
    },
    {
     "name": "stdout",
     "output_type": "stream",
     "text": [
      "loss:  59984.14453125\n",
      "loss:  2939782.5\n",
      "loss:  13801322.0\n",
      "loss:  362727.9375\n",
      "loss:  57526416.0\n",
      "loss:  4229568.5\n",
      "loss:  4608986.0\n",
      "loss:  7872864.0\n",
      "loss:  1100317.5\n",
      "loss:  3804984.5\n",
      "loss:  3485613.75\n",
      "loss:  4364525.0\n",
      "loss:  2995974.0\n",
      "loss:  1585225.75\n",
      "loss:  390908.84375\n",
      "loss:  3161849.0\n",
      "loss:  1351401.25\n",
      "loss:  976695.6875\n",
      "loss:  511145.375\n",
      "loss:  109467.546875\n",
      "loss:  1131368.375\n",
      "loss:  777920.0\n",
      "loss:  374590976.0\n",
      "loss:  304172.5\n",
      "loss:  1661553.0\n",
      "loss:  5207057.0\n",
      "loss:  2194229.75\n",
      "loss:  122032.1796875\n",
      "loss:  974111.375\n",
      "loss:  742813.4375\n",
      "loss:  6818728.0\n",
      "loss:  2299348.25\n",
      "loss:  594660.625\n",
      "loss:  2874898.5\n",
      "loss:  1668286.75\n",
      "loss:  1098332.0\n",
      "loss:  1386267.5\n",
      "loss:  3567269.0\n",
      "loss:  287994.6875\n",
      "loss:  6797116.5\n",
      "loss:  436523.9375\n",
      "loss:  351732.03125\n",
      "loss:  2407270.5\n",
      "loss:  2885906.25\n",
      "loss:  1214702.75\n",
      "loss:  10513159.0\n",
      "loss:  2317378.5\n",
      "loss:  3710383.5\n",
      "loss:  216636.421875\n",
      "loss:  658281.375\n",
      "loss:  1208449.0\n",
      "loss:  2122076.5\n",
      "loss:  567535.3125\n",
      "loss:  199224.25\n",
      "loss:  327223.25\n",
      "loss:  338522.125\n",
      "loss:  12484864.0\n",
      "loss:  913324.75\n",
      "loss:  377607.25\n",
      "loss:  5534597.5\n",
      "loss:  205052.078125\n",
      "loss:  23069538.0\n",
      "loss:  375543.75\n",
      "loss:  201505.1875\n",
      "loss:  27384800.0\n",
      "loss:  1195835.0\n",
      "loss:  1509672.5\n",
      "loss:  90329320.0\n",
      "loss:  1987487.5\n",
      "loss:  3717963.5\n",
      "loss:  2736108.0\n",
      "loss:  1105184.125\n",
      "loss:  2131389.5\n",
      "loss:  1323076.25\n",
      "loss:  3104906.75\n",
      "loss:  1260340.375\n",
      "loss:  4517099.0\n",
      "loss:  1428184.0\n",
      "loss:  846364.6875\n",
      "loss:  802824.5\n",
      "loss:  4060612.0\n",
      "loss:  621286.4375\n",
      "loss:  521506.75\n",
      "loss:  375628.125\n",
      "loss:  78288672.0\n",
      "loss:  379295.09375\n",
      "loss:  284897.25\n",
      "loss:  1286061.625\n",
      "loss:  118643.484375\n",
      "loss:  257305.640625\n",
      "loss:  165952.890625\n",
      "loss:  55105.08984375\n",
      "loss:  227312.5\n",
      "loss:  576102.75\n",
      "loss:  12481887.0\n",
      "loss:  109630.671875\n",
      "loss:  585606.375\n",
      "loss:  140139520.0\n",
      "loss:  142957.140625\n",
      "loss:  42430.17578125\n"
     ]
    }
   ],
   "source": [
    "# now, we have a new_value_net, \n",
    "\n",
    "\n",
    "second_policy = TradingPolicy(new_value_net, paras.gamma, paras.A, paras.kappa, paras.bid_ranges, paras.ask_ranges)\n",
    "\n",
    "second_value_net = Net(n)   \n",
    "second_value_net.to(device)\n",
    "second_value_net.load_state_dict(new_value_net.state_dict())\n",
    "\n",
    "second_loss_path = []\n",
    "\n",
    "# training process\n",
    "optimizer = optim.Adam(second_value_net.parameters(), lr = 0.01)\n",
    "second_loss_path = value_estimation(second_value_net, second_policy, paras, optimizer, train_data, num_epoch = 100, lr = 0.01)\n"
   ]
  },
  {
   "cell_type": "code",
   "execution_count": 14,
   "metadata": {},
   "outputs": [
    {
     "data": {
      "text/plain": [
       "[<matplotlib.lines.Line2D at 0x2c399135c10>]"
      ]
     },
     "execution_count": 14,
     "metadata": {},
     "output_type": "execute_result"
    },
    {
     "data": {
      "image/png": "[encoded data removed]",
      "text/plain": [
       "<Figure size 640x480 with 1 Axes>"
      ]
     },
     "metadata": {},
     "output_type": "display_data"
    }
   ],
   "source": [
    "# plot the loss path    \n",
    "# save the second value function's parameters\n",
    "torch.save(second_value_net.state_dict(), \"second_value_net_parameters\")\n",
    "second_loss_path = np.array(second_loss_path)\n",
    "np.save('second_loss_path.npy', second_loss_path)\n",
    "plt.plot(second_loss_path)"
   ]
  },
  {
   "cell_type": "code",
   "execution_count": 15,
   "metadata": {},
   "outputs": [
    {
     "name": "stdout",
     "output_type": "stream",
     "text": [
      "loss:  11636436.0\n",
      "loss:  1067099.125\n",
      "loss:  444132.875\n",
      "loss:  2271543.25\n",
      "loss:  1221825.0\n",
      "loss:  162580.140625\n",
      "loss:  1731793.625\n",
      "loss:  2268939.0\n",
      "loss:  210260.359375\n",
      "loss:  23895.744140625\n",
      "loss:  697595.9375\n",
      "loss:  11079209.0\n",
      "loss:  487238.0\n",
      "loss:  52759.1328125\n",
      "loss:  216549.375\n",
      "loss:  68617.8359375\n",
      "loss:  99209.6875\n",
      "loss:  56709.47265625\n",
      "loss:  3287487.5\n",
      "loss:  698761.0\n",
      "loss:  2026818.5\n",
      "loss:  113769.046875\n",
      "loss:  7639477.5\n",
      "loss:  53445.33984375\n",
      "loss:  165866.890625\n",
      "loss:  16272957.0\n",
      "loss:  191963.15625\n",
      "loss:  299066.03125\n",
      "loss:  1065188.0\n",
      "loss:  96772672.0\n",
      "loss:  315681.0625\n",
      "loss:  283740.6875\n",
      "loss:  196302.96875\n",
      "loss:  475798.75\n",
      "loss:  254127920.0\n",
      "loss:  670306.1875\n",
      "loss:  6780880.5\n",
      "loss:  2688637.5\n",
      "loss:  396090.34375\n",
      "loss:  7879253.0\n",
      "loss:  2247071.75\n",
      "loss:  4156873.0\n",
      "loss:  32936566.0\n",
      "loss:  3674976.5\n",
      "loss:  4415306.0\n",
      "loss:  3889089.0\n",
      "loss:  3866413.0\n",
      "loss:  1824286.5\n",
      "loss:  25388642.0\n",
      "loss:  1849857.375\n",
      "loss:  316561696.0\n",
      "loss:  3254432.75\n",
      "loss:  1085377.125\n",
      "loss:  5563381.5\n",
      "loss:  3512390.5\n",
      "loss:  3536368.5\n",
      "loss:  19659456.0\n",
      "loss:  6530872.5\n",
      "loss:  3039753.25\n",
      "loss:  31313418.0\n",
      "loss:  6248546.0\n",
      "loss:  42372460.0\n",
      "loss:  611633.6875\n",
      "loss:  13345289.0\n",
      "loss:  14936717.0\n",
      "loss:  7247997.5\n",
      "loss:  574929.25\n",
      "loss:  2583453.75\n",
      "loss:  1581957.625\n",
      "loss:  618127.0\n",
      "loss:  8046867.0\n",
      "loss:  619755.25\n",
      "loss:  59314616.0\n",
      "loss:  9740861.0\n",
      "loss:  627877.375\n",
      "loss:  1460662.125\n",
      "loss:  1675587.75\n",
      "loss:  1996886.625\n",
      "loss:  4047504.5\n",
      "loss:  1082693.0\n",
      "loss:  280976.84375\n",
      "loss:  2397624.5\n",
      "loss:  1308280.375\n",
      "loss:  1397653.25\n",
      "loss:  3688197.0\n",
      "loss:  330179.0\n",
      "loss:  515031.0625\n",
      "loss:  787809.8125\n",
      "loss:  1498923.75\n",
      "loss:  2059457.75\n",
      "loss:  758246.5\n",
      "loss:  1148278.25\n",
      "loss:  177788.234375\n",
      "loss:  36509668.0\n",
      "loss:  393779.90625\n",
      "loss:  345621.125\n",
      "loss:  2662037.5\n",
      "loss:  2027687.25\n",
      "loss:  13741046.0\n",
      "loss:  914439.0625\n"
     ]
    }
   ],
   "source": [
    "# train the third policy iteration \n",
    "device = torch.device(\"cuda:0\" if torch.cuda.is_available() else \"cpu\")\n",
    "second_value_net = Net(n)\n",
    "second_value_net.load_state_dict(torch.load(\"second_value_net_parameters\"))\n",
    "#third_value_net.to(device)\n",
    "third_policy = TradingPolicy(second_value_net, paras.gamma, paras.A, paras.kappa, paras.bid_ranges, paras.ask_ranges)\n",
    "\n",
    "third_value_net = Net(n)\n",
    "third_value_net.load_state_dict(second_value_net.state_dict())\n",
    "third_value_net.to(device)\n",
    "\n",
    "third_loss_path = []\n",
    "optimizer = optim.Adam(third_value_net.parameters(), lr = 0.01)\n",
    "third_loss_path = value_estimation(third_value_net, third_policy, paras, optimizer, train_data, num_epoch = 100, lr = 0.01)\n",
    "\n"
   ]
  },
  {
   "cell_type": "code",
   "execution_count": 16,
   "metadata": {},
   "outputs": [
    {
     "data": {
      "text/plain": [
       "[<matplotlib.lines.Line2D at 0x2c399416760>]"
      ]
     },
     "execution_count": 16,
     "metadata": {},
     "output_type": "execute_result"
    },
    {
     "data": {
      "image/png": "[encoded data removed]",
      "text/plain": [
       "<Figure size 640x480 with 1 Axes>"
      ]
     },
     "metadata": {},
     "output_type": "display_data"
    }
   ],
   "source": [
    "# save the third value function's parameters\n",
    "torch.save(third_value_net.state_dict(), \"third_value_net_parameters\")\n",
    "# save the loss path\n",
    "third_loss_path = np.array(third_loss_path)\n",
    "np.save('third_loss_path.npy', third_loss_path)\n",
    "\n",
    "# plot the loss path\n",
    "plt.plot(third_loss_path)"
   ]
  },
  {
   "cell_type": "code",
   "execution_count": 17,
   "metadata": {},
   "outputs": [
    {
     "name": "stdout",
     "output_type": "stream",
     "text": [
      "loss:  8560847.0\n",
      "loss:  3.583967116736231e+21\n",
      "loss:  1.2102875617133855e+18\n",
      "loss:  2.1560539975411302e+17\n",
      "loss:  3.6556470241319715e+19\n",
      "loss:  9.155652222346854e+16\n",
      "loss:  3.4683874395868365e+17\n",
      "loss:  760960562233344.0\n",
      "loss:  47479.32421875\n",
      "loss:  11876.7041015625\n",
      "loss:  4.437206734418739e+16\n",
      "loss:  1.0149969793122304e+18\n",
      "loss:  6.233845550664385e+18\n",
      "loss:  7060959.5\n",
      "loss:  27892.974609375\n",
      "loss:  192358512.0\n",
      "loss:  266367.25\n",
      "loss:  8865793.0\n",
      "loss:  3.679760303689564e+17\n",
      "loss:  231.369873046875\n",
      "loss:  4144199.25\n",
      "loss:  620637.5\n",
      "loss:  146417.40625\n",
      "loss:  88074112.0\n",
      "loss:  6857.44384765625\n",
      "loss:  6624.17041015625\n",
      "loss:  29367812.0\n",
      "loss:  144685.640625\n",
      "loss:  556330.3125\n",
      "loss:  40323096.0\n",
      "loss:  712520.4375\n",
      "loss:  152140.390625\n",
      "loss:  12235312.0\n",
      "loss:  2770.964111328125\n",
      "loss:  6728.44384765625\n",
      "loss:  4117.5126953125\n",
      "loss:  191336.09375\n",
      "loss:  1253771.25\n",
      "loss:  5498.4072265625\n",
      "loss:  10524517.0\n",
      "loss:  10327.40234375\n",
      "loss:  94793.9140625\n",
      "loss:  37670116.0\n",
      "loss:  28270410.0\n",
      "loss:  3669.7392578125\n",
      "loss:  504829.25\n",
      "loss:  14673869.0\n",
      "loss:  500465.1875\n",
      "loss:  526672.6875\n",
      "loss:  720774.875\n",
      "loss:  80721840.0\n",
      "loss:  8269164.0\n",
      "loss:  2582.44921875\n",
      "loss:  22659.12890625\n",
      "loss:  78380128.0\n",
      "loss:  10384.7314453125\n",
      "loss:  45491.921875\n",
      "loss:  672343.0625\n",
      "loss:  8521947.0\n",
      "loss:  15571151.0\n",
      "loss:  254117.015625\n",
      "loss:  1566.503173828125\n",
      "loss:  9451.78125\n",
      "loss:  53214176.0\n",
      "loss:  147469.390625\n",
      "loss:  6862.16552734375\n",
      "loss:  912220992.0\n",
      "loss:  524261.03125\n",
      "loss:  32153.1953125\n",
      "loss:  80751.875\n",
      "loss:  2938521.75\n",
      "loss:  17860346.0\n",
      "loss:  9855.126953125\n",
      "loss:  72171592.0\n",
      "loss:  1052923.625\n",
      "loss:  507319.625\n",
      "loss:  24185164.0\n",
      "loss:  21803.927734375\n",
      "loss:  13041437.0\n",
      "loss:  10899.93359375\n",
      "loss:  3468.870361328125\n",
      "loss:  18958.341796875\n",
      "loss:  49452.54296875\n",
      "loss:  9591.7138671875\n",
      "loss:  1811085.25\n",
      "loss:  22333.44140625\n",
      "loss:  11633142.0\n",
      "loss:  11471.3515625\n",
      "loss:  729589.25\n",
      "loss:  269.0229797363281\n",
      "loss:  36.277591705322266\n",
      "loss:  590482.8125\n",
      "loss:  129245040.0\n",
      "loss:  1848928.375\n",
      "loss:  34281756.0\n",
      "loss:  24.863327026367188\n",
      "loss:  27330.021484375\n",
      "loss:  412701.96875\n",
      "loss:  2599544.0\n",
      "loss:  202360.640625\n"
     ]
    }
   ],
   "source": [
    "# train the fourth policy iteration\n",
    "third_value_net = Net(n)\n",
    "third_value_net.load_state_dict(torch.load(\"third_value_net_parameters\"))\n",
    "\n",
    "\n",
    "forth_policy = TradingPolicy(third_value_net, paras.gamma, paras.A, paras.kappa, paras.bid_ranges, paras.ask_ranges)\n",
    "forth_value_net = Net(n)\n",
    "forth_value_net.load_state_dict(third_value_net.state_dict())\n",
    "forth_value_net.to(device)\n",
    "\n",
    "\n",
    "forth_loss_path = []\n",
    "optimizer = optim.Adam(forth_value_net.parameters(), lr = 10)\n",
    "forth_loss_path = value_estimation(forth_value_net, forth_policy, paras, optimizer, train_data, num_epoch = 100, lr = 10)"
   ]
  },
  {
   "cell_type": "code",
   "execution_count": 18,
   "metadata": {},
   "outputs": [
    {
     "data": {
      "text/plain": [
       "[<matplotlib.lines.Line2D at 0x2c39a8a3550>]"
      ]
     },
     "execution_count": 18,
     "metadata": {},
     "output_type": "execute_result"
    },
    {
     "data": {
      "image/png": "[encoded data removed]",
      "text/plain": [
       "<Figure size 640x480 with 1 Axes>"
      ]
     },
     "metadata": {},
     "output_type": "display_data"
    }
   ],
   "source": [
    "# save the forth value function's parameters\n",
    "torch.save(forth_value_net.state_dict(), \"forth_value_net_parameters\")\n",
    "# save the loss path\n",
    "forth_loss_path = np.array(forth_loss_path)\n",
    "np.save('forth_loss_path.npy', forth_loss_path)\n",
    "\n",
    "# plot the loss path\n",
    "plt.plot(forth_loss_path)"
   ]
  },
  {
   "cell_type": "code",
   "execution_count": null,
   "metadata": {},
   "outputs": [],
   "source": []
  }
 ],
 "metadata": {
  "kernelspec": {
   "display_name": "qids-2023-comp",
   "language": "python",
   "name": "python3"
  },
  "language_info": {
   "codemirror_mode": {
    "name": "ipython",
    "version": 3
   },
   "file_extension": ".py",
   "mimetype": "text/x-python",
   "name": "python",
   "nbconvert_exporter": "python",
   "pygments_lexer": "ipython3",
   "version": "3.9.16"
  }
 },
 "nbformat": 4,
 "nbformat_minor": 2
}
