{
 "cells": [
  {
   "cell_type": "code",
   "execution_count": 1,
   "metadata": {},
   "outputs": [],
   "source": [
    "import torch\n",
    "import numpy as np \n",
    "from stable_baselines3 import PPO\n",
    "from gym_functions import *\n"
   ]
  },
  {
   "cell_type": "code",
   "execution_count": 3,
   "metadata": {},
   "outputs": [],
   "source": [
    "# Define a class for parameters\n",
    "class TradingParameters:\n",
    "    def __init__(self):\n",
    "        # Define all necessary parameters\n",
    "        self.S0 = 100.0  # Initial stock price\n",
    "        self.sigma = 0.02  # Daily volatility\n",
    "        self.T = 10  # Total time in trading days\n",
    "        self.dt = 1  # Time step in days\n",
    "        self.K = np.array([95, 100, 105])  # Strike prices\n",
    "        self.time = np.array([30, 30, 30])  # Time to maturity in days\n",
    "        self.r = 0.01  # Risk-free rate\n",
    "        self.V = np.eye(len(self.K)) * 0.1  # Volatility matrix for shocks\n",
    "        self.psi0 = 0.1  # Terminal inventory liquidation cost coefficient\n",
    "        self.A_plus = np.array([100, 100, 100])  # Arrival rate parameters for buy orders\n",
    "        self.kappa_plus = np.array([1.5, 1.5, 1.5])  # Sensitivity parameters for buy orders\n",
    "        self.A_minus = np.array([100, 100, 100])  # Arrival rate parameters for sell orders\n",
    "        self.kappa_minus = np.array([1.5, 1.5, 1.5])  # Sensitivity parameters for sell orders\n",
    "        self.bid_ranges = [(0.01, 1.0) for _ in range(len(self.K))]  # Bid spread ranges\n",
    "        self.ask_ranges = [(0.01, 1.0) for _ in range(len(self.K))]  # Ask spread ranges\n",
    "        self.gamma = 0.1  # Entropy regularization parameter"
   ]
  },
  {
   "cell_type": "code",
   "execution_count": 4,
   "metadata": {},
   "outputs": [
    {
     "name": "stderr",
     "output_type": "stream",
     "text": [
      "c:\\Users\\specf\\anaconda3\\envs\\omm\\lib\\site-packages\\gym\\spaces\\box.py:127: UserWarning: \u001b[33mWARN: Box bound precision lowered by casting to float32\u001b[0m\n",
      "  logger.warn(f\"Box bound precision lowered by casting to {self.dtype}\")\n",
      "c:\\Users\\specf\\anaconda3\\envs\\omm\\lib\\site-packages\\stable_baselines3\\common\\vec_env\\patch_gym.py:49: UserWarning: You provided an OpenAI Gym environment. We strongly recommend transitioning to Gymnasium environments. Stable-Baselines3 is automatically wrapping your environments in a compatibility layer, which could potentially cause issues.\n",
      "  warnings.warn(\n"
     ]
    },
    {
     "name": "stdout",
     "output_type": "stream",
     "text": [
      "Using cuda device\n",
      "Wrapping the env with a `Monitor` wrapper\n",
      "Wrapping the env in a DummyVecEnv.\n"
     ]
    },
    {
     "name": "stderr",
     "output_type": "stream",
     "text": [
      "c:\\Users\\specf\\anaconda3\\envs\\omm\\lib\\site-packages\\stable_baselines3\\common\\on_policy_algorithm.py:150: UserWarning: You are trying to run PPO on the GPU, but it is primarily intended to run on the CPU when not using a CNN policy (you are using ActorCriticPolicy which should be a MlpPolicy). See https://github.com/DLR-RM/stable-baselines3/issues/1245 for more info. You can pass `device='cpu'` or `export CUDA_VISIBLE_DEVICES=` to force using the CPU.Note: The model will train, but the GPU utilization will be poor and the training might take longer than on CPU.\n",
      "  warnings.warn(\n"
     ]
    },
    {
     "name": "stdout",
     "output_type": "stream",
     "text": [
      "----------------------------------\n",
      "| rollout/           |           |\n",
      "|    ep_len_mean     | 9         |\n",
      "|    ep_rew_mean     | -1.64e+05 |\n",
      "| time/              |           |\n",
      "|    fps             | 288       |\n",
      "|    iterations      | 1         |\n",
      "|    time_elapsed    | 7         |\n",
      "|    total_timesteps | 2048      |\n",
      "----------------------------------\n",
      "Step: 1, Reward: 68.04024113295536, Total Reward: 68.04024113295536\n",
      "Step: 2, Reward: 37.65628164379281, Total Reward: 105.69652277674817\n",
      "Step: 3, Reward: 95.43222582424394, Total Reward: 201.1287486009921\n",
      "Step: 4, Reward: 102.73945204870807, Total Reward: 303.86820064970016\n",
      "Step: 5, Reward: 93.64717079225306, Total Reward: 397.5153714419532\n",
      "Step: 6, Reward: 56.35842246457719, Total Reward: 453.8737939065304\n",
      "Step: 7, Reward: -3.241483680636726, Total Reward: 450.63231022589366\n",
      "Step: 8, Reward: 68.74270891343156, Total Reward: 519.3750191393252\n",
      "Step: 9, Reward: -344784.954334621, Total Reward: -344265.5793154817\n"
     ]
    }
   ],
   "source": [
    "paras = TradingParameters()\n",
    "env = OptionMarketMakingEnv(paras)\n",
    "\n",
    "# Define policy kwargs if needed\n",
    "policy_kwargs = dict(\n",
    "    features_extractor_class=CustomFeatureExtractor,\n",
    "    features_extractor_kwargs=dict(features_dim=128),\n",
    ")\n",
    "\n",
    "# Initialize the PPO model\n",
    "model = PPO(\n",
    "    policy='MlpPolicy',\n",
    "    env=env,\n",
    "    verbose=1,\n",
    "    ent_coef=paras.gamma,  # Set entropy coefficient to the desired value\n",
    "    policy_kwargs=policy_kwargs,\n",
    ")\n",
    "\n",
    "# Train the agent\n",
    "model.learn(total_timesteps=1000)  # Adjust timesteps as needed\n",
    "\n",
    "# Run the trained agent\n",
    "obs = env.reset()\n",
    "done = False\n",
    "total_reward = 0\n",
    "while not done:\n",
    "    action, _states = model.predict(obs, deterministic=False)\n",
    "    obs, reward, done, info = env.step(action)\n",
    "    total_reward += reward\n",
    "    print(f\"Step: {env.current_step}, Reward: {reward}, Total Reward: {total_reward}\")\n"
   ]
  }
 ],
 "metadata": {
  "kernelspec": {
   "display_name": "omm",
   "language": "python",
   "name": "python3"
  },
  "language_info": {
   "codemirror_mode": {
    "name": "ipython",
    "version": 3
   },
   "file_extension": ".py",
   "mimetype": "text/x-python",
   "name": "python",
   "nbconvert_exporter": "python",
   "pygments_lexer": "ipython3",
   "version": "3.10.15"
  }
 },
 "nbformat": 4,
 "nbformat_minor": 2
}
